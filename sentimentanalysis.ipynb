{
 "cells": [
  {
   "cell_type": "code",
   "execution_count": 48,
   "id": "f24922b5-1aeb-4926-83e9-e953edbcc9d7",
   "metadata": {},
   "outputs": [
    {
     "name": "stdout",
     "output_type": "stream",
     "text": [
      "Collecting kaggle\n",
      "  Downloading kaggle-1.7.4.5-py3-none-any.whl (181 kB)\n",
      "     -------------------------------------- 181.2/181.2 kB 3.6 MB/s eta 0:00:00\n",
      "Collecting python-slugify\n",
      "  Downloading python_slugify-8.0.4-py2.py3-none-any.whl (10 kB)\n",
      "Requirement already satisfied: setuptools>=21.0.0 in c:\\users\\rohan\\tfenv\\lib\\site-packages (from kaggle) (65.5.0)\n",
      "Requirement already satisfied: tqdm in c:\\users\\rohan\\tfenv\\lib\\site-packages (from kaggle) (4.67.1)\n",
      "Requirement already satisfied: urllib3>=1.15.1 in c:\\users\\rohan\\tfenv\\lib\\site-packages (from kaggle) (2.5.0)\n",
      "Requirement already satisfied: webencodings in c:\\users\\rohan\\tfenv\\lib\\site-packages (from kaggle) (0.5.1)\n",
      "Requirement already satisfied: python-dateutil>=2.5.3 in c:\\users\\rohan\\tfenv\\lib\\site-packages (from kaggle) (2.9.0.post0)\n",
      "Requirement already satisfied: protobuf in c:\\users\\rohan\\tfenv\\lib\\site-packages (from kaggle) (5.29.5)\n",
      "Requirement already satisfied: certifi>=14.05.14 in c:\\users\\rohan\\tfenv\\lib\\site-packages (from kaggle) (2025.6.15)\n",
      "Requirement already satisfied: charset-normalizer in c:\\users\\rohan\\tfenv\\lib\\site-packages (from kaggle) (3.4.2)\n",
      "Requirement already satisfied: bleach in c:\\users\\rohan\\tfenv\\lib\\site-packages (from kaggle) (6.2.0)\n",
      "Requirement already satisfied: idna in c:\\users\\rohan\\tfenv\\lib\\site-packages (from kaggle) (3.10)\n",
      "Collecting text-unidecode\n",
      "  Downloading text_unidecode-1.3-py2.py3-none-any.whl (78 kB)\n",
      "     ---------------------------------------- 78.2/78.2 kB 2.2 MB/s eta 0:00:00\n",
      "Requirement already satisfied: requests in c:\\users\\rohan\\tfenv\\lib\\site-packages (from kaggle) (2.32.4)\n",
      "Requirement already satisfied: six>=1.10 in c:\\users\\rohan\\tfenv\\lib\\site-packages (from kaggle) (1.17.0)\n",
      "Requirement already satisfied: colorama in c:\\users\\rohan\\tfenv\\lib\\site-packages (from tqdm->kaggle) (0.4.6)\n",
      "Installing collected packages: text-unidecode, python-slugify, kaggle\n",
      "Successfully installed kaggle-1.7.4.5 python-slugify-8.0.4 text-unidecode-1.3\n"
     ]
    },
    {
     "name": "stderr",
     "output_type": "stream",
     "text": [
      "\n",
      "[notice] A new release of pip available: 22.3.1 -> 25.2\n",
      "[notice] To update, run: python.exe -m pip install --upgrade pip\n"
     ]
    }
   ],
   "source": [
    "!pip install kaggle"
   ]
  },
  {
   "cell_type": "code",
   "execution_count": 4,
   "id": "1215926b-4215-454c-927d-e95c08c69a2d",
   "metadata": {},
   "outputs": [
    {
     "name": "stdout",
     "output_type": "stream",
     "text": [
      "Requirement already satisfied: nltk in c:\\users\\rohan\\tfenv\\lib\\site-packages (3.9.1)\n",
      "Requirement already satisfied: tqdm in c:\\users\\rohan\\tfenv\\lib\\site-packages (from nltk) (4.67.1)\n",
      "Requirement already satisfied: joblib in c:\\users\\rohan\\tfenv\\lib\\site-packages (from nltk) (1.5.1)\n",
      "Requirement already satisfied: regex>=2021.8.3 in c:\\users\\rohan\\tfenv\\lib\\site-packages (from nltk) (2025.7.34)\n",
      "Requirement already satisfied: click in c:\\users\\rohan\\tfenv\\lib\\site-packages (from nltk) (8.2.1)\n",
      "Requirement already satisfied: colorama in c:\\users\\rohan\\tfenv\\lib\\site-packages (from click->nltk) (0.4.6)\n",
      "Note: you may need to restart the kernel to use updated packages.\n"
     ]
    },
    {
     "name": "stderr",
     "output_type": "stream",
     "text": [
      "\n",
      "[notice] A new release of pip available: 22.3.1 -> 25.2\n",
      "[notice] To update, run: python.exe -m pip install --upgrade pip\n"
     ]
    }
   ],
   "source": [
    "pip install nltk"
   ]
  },
  {
   "cell_type": "code",
   "execution_count": null,
   "id": "d892e601-8ae3-41c1-9f1b-406868e71e9b",
   "metadata": {},
   "outputs": [
    {
     "name": "stderr",
     "output_type": "stream",
     "text": [
      "C:\\Users\\rohan\\AppData\\Local\\Temp\\ipykernel_18068\\4105856732.py:29: FutureWarning: DataFrameGroupBy.apply operated on the grouping columns. This behavior is deprecated, and in a future version of pandas the grouping columns will be excluded from the operation. Either pass `include_groups=False` to exclude the groupings or explicitly select the grouping columns after groupby to silence this warning.\n",
      "  sample_df = df.groupby(\"target\", group_keys=False).apply(\n",
      "[nltk_data] Downloading package punkt to\n",
      "[nltk_data]     C:\\Users\\rohan\\AppData\\Roaming\\nltk_data...\n",
      "[nltk_data]   Package punkt is already up-to-date!\n",
      "[nltk_data] Downloading package stopwords to\n",
      "[nltk_data]     C:\\Users\\rohan\\AppData\\Roaming\\nltk_data...\n",
      "[nltk_data]   Package stopwords is already up-to-date!\n",
      "[nltk_data] Downloading package wordnet to\n",
      "[nltk_data]     C:\\Users\\rohan\\AppData\\Roaming\\nltk_data...\n",
      "[nltk_data]   Package wordnet is already up-to-date!\n"
     ]
    },
    {
     "name": "stdout",
     "output_type": "stream",
     "text": [
      "✅ Training complete.\n",
      "Train size: (40000, 56248)\n",
      "Test size: (10000, 56248)\n",
      "Accuracy: 0.7522\n",
      "\n",
      "Classification Report:\n",
      "               precision    recall  f1-score   support\n",
      "\n",
      "           0       0.76      0.73      0.75      5000\n",
      "           4       0.74      0.77      0.76      5000\n",
      "\n",
      "    accuracy                           0.75     10000\n",
      "   macro avg       0.75      0.75      0.75     10000\n",
      "weighted avg       0.75      0.75      0.75     10000\n",
      "\n",
      "\n",
      "Confusion Matrix:\n",
      " [[3671 1329]\n",
      " [1149 3851]]\n"
     ]
    }
   ],
   "source": [
    "# ===============================\n",
    "# 1. Import Libraries\n",
    "# ===============================\n",
    "import pandas as pd\n",
    "import nltk\n",
    "import string\n",
    "from nltk.tokenize import word_tokenize\n",
    "from nltk.corpus import stopwords\n",
    "from nltk.stem import WordNetLemmatizer\n",
    "from sklearn.feature_extraction.text import TfidfVectorizer\n",
    "from sklearn.model_selection import train_test_split\n",
    "from sklearn.linear_model import LogisticRegression\n",
    "import pickle, json\n",
    "\n",
    "# ===============================\n",
    "# 2. Load and Sample Dataset\n",
    "# ===============================\n",
    "df = pd.read_csv(\n",
    "    r\"C:\\Users\\rohan\\OneDrive\\Documents\\training.1600000.processed.noemoticon.csv\",\n",
    "    encoding=\"latin-1\",\n",
    "    header=None\n",
    ") # header=none means dataset doesnt have a header row if it were 0 it wouldve meant 1st row is considered as header row\n",
    "df.columns = [\"target\", \"ids\", \"date\", \"flag\", \"user\", \"text\"]\n",
    "\n",
    "# Balancing the dataset for training(25k negative + 25k positive)\n",
    "#groupby finds unique values in your dataset (here selected col target which has only 0 as neg and 4 as pos) and sorts those into groups \n",
    "#the apply function applies wtv method we input on those groups seperately, lambda is a short form of defining a func in python\n",
    "#Pandas goes group by group (first all rows where target == 0, then all rows where target == 4). For each group, it passes that group’s dataframe into the function as x.\n",
    "sample_df = df.groupby(\"target\", group_keys=False).apply(\n",
    "    lambda x: x.sample(25000, random_state=42)\n",
    ")\n",
    "\n",
    "\n",
    "# ===============================\n",
    "# 3. Download NLTK Resources\n",
    "# ===============================\n",
    "nltk.download('punkt')\n",
    "nltk.download('stopwords')\n",
    "nltk.download('wordnet')\n",
    "\n",
    "\n",
    "# ===============================\n",
    "# 4. Text Preprocessing\n",
    "# ===============================\n",
    "\n",
    "# 4.1 Lowercase + Tokenization (here sample_df[\"text\"] is a whole data series .lower cannot be applied to it so we need .str after to apply it to single string)\n",
    "data = sample_df[\"text\"].astype(str).str.lower().apply(word_tokenize)\n",
    "\n",
    "# 4.2 Remove Stopwords + Punctuation\n",
    "#“Get me all standard English stopwords from NLTK, and put them in a set for fast lookups.” set is unordered collection of unique objects\n",
    "stop_words = set(stopwords.words(\"english\")) \n",
    "data = data.apply(lambda tokens: [\n",
    "    w for w in tokens if w not in stop_words and w not in string.punctuation\n",
    "])\n",
    "\n",
    "# 4.3 Lemmatization\n",
    "lemmatizer = WordNetLemmatizer()\n",
    "data = data.apply(lambda tokens: [lemmatizer.lemmatize(w) for w in tokens])\n",
    "\n",
    "\n",
    "# ===============================\n",
    "# 5. TF-IDF Vectorization\n",
    "# ===============================\n",
    "# Join tokens back into sentences\n",
    "data_as_strings = data.apply(lambda tokens: \" \".join(tokens))\n",
    "\n",
    "vectorizer = TfidfVectorizer()\n",
    "X = vectorizer.fit_transform(data_as_strings)\n",
    "y = sample_df[\"target\"]\n",
    "\n",
    "\n",
    "# ===============================\n",
    "# 6. Train-Test Split\n",
    "# ===============================\n",
    "X_train, X_test, y_train, y_test = train_test_split(\n",
    "    X, y, test_size=0.2, random_state=42, stratify=y\n",
    ")\n",
    "\n",
    "\n",
    "# ===============================\n",
    "# 7. Train Logistic Regression\n",
    "# ===============================\n",
    "model = LogisticRegression(max_iter=1000)\n",
    "model.fit(X_train, y_train)\n",
    "\n",
    "print(\"✅ Training complete.\")\n",
    "print(\"Train size:\", X_train.shape)\n",
    "print(\"Test size:\", X_test.shape)\n",
    "\n",
    "# ===============================\n",
    "# 8. Model Evaluation\n",
    "# ===============================\n",
    "from sklearn.metrics import accuracy_score, classification_report, confusion_matrix\n",
    "\n",
    "# Predict on test set\n",
    "y_pred = model.predict(X_test)\n",
    "\n",
    "# Accuracy\n",
    "print(\"Accuracy:\", accuracy_score(y_test, y_pred))\n",
    "\n",
    "# Classification Report (precision, recall, f1-score per class)\n",
    "print(\"\\nClassification Report:\\n\", cr = classification_report(y_test, y_pred, output_dict=True))\n",
    "\n",
    "# Confusion Matrix\n",
    "print(\"\\nConfusion Matrix:\\n\", cm = confusion_matrix(y_test, y_pred).tolist())\n",
    "\n",
    "import os\n",
    "\n",
    "metrics = {\"classification_report\": cr, \"confusion_matrix\": cm}\n",
    "with open(os.path.join(\"C:/Users/rohan/Sentiment_analysis_project\", \"metrics.json\"), \"w\") as f:\n",
    "    json.dump(metrics, f)"
   ]
  },
  {
   "cell_type": "code",
   "execution_count": 3,
   "id": "7375baa7-318e-43a7-98c3-024b9add737b",
   "metadata": {},
   "outputs": [
    {
     "data": {
      "text/plain": [
       "['tfidf_vectorizer.pkl']"
      ]
     },
     "execution_count": 3,
     "metadata": {},
     "output_type": "execute_result"
    }
   ],
   "source": [
    "import joblib\n",
    "\n",
    "# Save model\n",
    "joblib.dump(model, \"sentiment_model.pkl\")\n",
    "\n",
    "# Save vectorizer\n",
    "joblib.dump(vectorizer, \"tfidf_vectorizer.pkl\")\n"
   ]
  },
  {
   "cell_type": "code",
   "execution_count": 7,
   "id": "2c7d6e1d-7e49-44ce-a7d9-df47d58f5dcc",
   "metadata": {},
   "outputs": [
    {
     "ename": "ModuleNotFoundError",
     "evalue": "No module named 'streamlit'",
     "output_type": "error",
     "traceback": [
      "\u001b[1;31m---------------------------------------------------------------------------\u001b[0m",
      "\u001b[1;31mModuleNotFoundError\u001b[0m                       Traceback (most recent call last)",
      "Cell \u001b[1;32mIn[7], line 1\u001b[0m\n\u001b[1;32m----> 1\u001b[0m \u001b[38;5;28;01mimport\u001b[39;00m\u001b[38;5;250m \u001b[39m\u001b[38;5;21;01mstreamlit\u001b[39;00m\u001b[38;5;250m \u001b[39m\u001b[38;5;28;01mas\u001b[39;00m\u001b[38;5;250m \u001b[39m\u001b[38;5;21;01mst\u001b[39;00m\n\u001b[0;32m      2\u001b[0m \u001b[38;5;28;01mimport\u001b[39;00m\u001b[38;5;250m \u001b[39m\u001b[38;5;21;01mpickle\u001b[39;00m\n\u001b[0;32m      3\u001b[0m \u001b[38;5;28;01mimport\u001b[39;00m\u001b[38;5;250m \u001b[39m\u001b[38;5;21;01mnltk\u001b[39;00m\n",
      "\u001b[1;31mModuleNotFoundError\u001b[0m: No module named 'streamlit'"
     ]
    }
   ],
   "source": [
    "import streamlit as st\n",
    "import pickle\n",
    "import nltk\n",
    "import string\n",
    "from nltk.tokenize import word_tokenize\n",
    "from nltk.corpus import stopwords\n",
    "from nltk.stem import WordNetLemmatizer\n",
    "import joblib\n",
    "\n",
    "\n",
    "# Load trained model + vectorizer\n",
    "model = joblib.load(\"sentiment_model.pkl\")         # replace with your model path\n",
    "vectorizer = joblib.load(\"tfidf_vectorizer.pkl\")   # same vectorizer used during training\n",
    "\n",
    "st.write(\"Twitter Sentiment Analysis with AI\")\n",
    "text = st.text_input(\"Enter your tweet: \")\n",
    "\n",
    "stop_words = set(stopwords.words(\"english\"))\n",
    "lemmatizer = WordNetLemmatizer()\n",
    "def preprocess_text(text): \n",
    "    text = text.lower() # u wont need .astype(str).str here cuz its not a pandas series, st.text_input gives single string\n",
    "    tokens = word_tokenize(text)\n",
    "    tokens = [w for w in tokens if w not in stop_words and w not in string.punctuation]\n",
    "    tokens = [lemmatizer.lemmatize(w) for w in tokens]  # optional but good\n",
    "    return \" \".join(tokens)   # join back into a cleaned string for model input\n",
    "if st.button(\"Analyse Sentiment\"):\n",
    "    if text != \"\":\n",
    "        cleanedtext = preprocess_text(text)\n",
    "        tfidf_cleanedtext=vectorizer.transform([cleanedtext]) # must be a list/array\n",
    "        prediction = model.predict(tfidf_cleanedtext)[0]\n",
    "        if prediction == 0:\n",
    "            st.write(\"The sentiment is negative\")\n",
    "        else:\n",
    "            st.write(\"The sentiment is positive\")\n",
    "        \n",
    "    else: \n",
    "        st.write(\"Input your tweet again\")\n"
   ]
  },
  {
   "cell_type": "code",
   "execution_count": 4,
   "id": "c58f8475-9941-4698-92e7-1b30bf68a015",
   "metadata": {},
   "outputs": [
    {
     "name": "stdout",
     "output_type": "stream",
     "text": [
      "C:\\Users\\rohan\n"
     ]
    }
   ],
   "source": [
    "import os\n",
    "print(os.getcwd())\n"
   ]
  },
  {
   "cell_type": "code",
   "execution_count": 5,
   "id": "ec534b1e-9db9-4acc-b119-f4a22ea2ded4",
   "metadata": {},
   "outputs": [
    {
     "name": "stdout",
     "output_type": "stream",
     "text": [
      "['.cache', '.ccache', '.gitconfig', '.ipynb_checkpoints', '.ipython', '.jupyter', '.kaggle', '.keras', '.lesshst', '.local', '.matplotlib', '.sage', '.ssh', '.thumbnails', '.viminfo', '.vscode', '25.1.1', 'AIMLnotes.ipynb', 'AppData', 'Application Data', 'coco_labels.txt', 'code', 'Contacts', 'Cookies', 'Course_2.ipynb', 'CrossDevice', 'DocAuth', 'Documents', 'Downloads', 'Favorites', 'IntelGraphicsProfiles', 'Links', 'Local Settings', 'Music', 'My Documents', 'my-app', 'my-appnpm', 'myapprohan', 'NetHood', 'NTUSER.DAT', 'ntuser.dat.LOG1', 'ntuser.dat.LOG2', 'NTUSER.DAT{21ccdea5-13bd-11f0-a9d2-de5d4462489a}.TM.blf', 'NTUSER.DAT{21ccdea5-13bd-11f0-a9d2-de5d4462489a}.TMContainer00000000000000000001.regtrans-ms', 'NTUSER.DAT{21ccdea5-13bd-11f0-a9d2-de5d4462489a}.TMContainer00000000000000000002.regtrans-ms', 'ntuser.ini', 'object_detection_model', 'OneDrive', 'pip', 'practiceapp', 'PrintHood', 'project1', 'Recent', 'rmdir', 'Saved Games', 'Searches', 'SendTo', 'sentimentanalysis.ipynb', 'sentiment_model.pkl', 'Start Menu', 'Templates', 'tfenv', 'tfidf_vectorizer.pkl', 'Videos', 'vite-project']\n"
     ]
    }
   ],
   "source": [
    "import os\n",
    "print(os.listdir())\n"
   ]
  }
 ],
 "metadata": {
  "kernelspec": {
   "display_name": "Python 3 (ipykernel)",
   "language": "python",
   "name": "python3"
  },
  "language_info": {
   "codemirror_mode": {
    "name": "ipython",
    "version": 3
   },
   "file_extension": ".py",
   "mimetype": "text/x-python",
   "name": "python",
   "nbconvert_exporter": "python",
   "pygments_lexer": "ipython3",
   "version": "3.10.9"
  }
 },
 "nbformat": 4,
 "nbformat_minor": 5
}
